{
 "cells": [
  {
   "cell_type": "markdown",
   "metadata": {},
   "source": [
    "# JSON Explorer Notebook"
   ]
  },
  {
   "cell_type": "code",
   "execution_count": null,
   "metadata": {},
   "outputs": [],
   "source": [
    "import json\n",
    "import pandas as pd\n",
    "from pathlib import Path"
   ]
  },
  {
   "cell_type": "code",
   "execution_count": null,
   "metadata": {},
   "outputs": [],
   "source": [
    "def load_json_file(file_path):\n",
    "    \"\"\"Load a JSON file and return its contents.\"\"\"\n",
    "    with open(file_path, 'r') as f:\n",
    "        return json.load(f)\n",
    "\n",
    "def explore_json(data, path=\"\", max_depth=3, current_depth=0):\n",
    "    \"\"\"Recursively explore a JSON structure and print its contents.\"\"\"\n",
    "    if current_depth >= max_depth:\n",
    "        print(f\"{path} ... (max depth reached)\")\n",
    "        return\n",
    "\n",
    "    if isinstance(data, dict):\n",
    "        print(f\"{path} (dict with {len(data)} keys)\")\n",
    "        for key, value in list(data.items())[:5]:  # Show first 5 keys\n",
    "            new_path = f\"{path}.{key}\" if path else key\n",
    "            explore_json(value, new_path, max_depth, current_depth + 1)\n",
    "        if len(data) > 5:\n",
    "            print(f\"{path} ... ({len(data) - 5} more keys)\")\n",
    "    elif isinstance(data, list):\n",
    "        print(f\"{path} (list with {len(data)} items)\")\n",
    "        if data and len(data) > 0:\n",
    "            # Show structure of first item\n",
    "            explore_json(data[0], f\"{path}[0]\", max_depth, current_depth + 1)\n",
    "            if len(data) > 1:\n",
    "                print(f\"{path} ... ({len(data) - 1} more items)\")\n",
    "    else:\n",
    "        # For primitive values, show type and truncated content\n",
    "        value_str = str(data)\n",
    "        if len(value_str) > 50:\n",
    "            value_str = value_str[:47] + \"...\"\n",
    "        print(f\"{path} = {type(data).__name__}: {value_str}\")"
   ]
  },
  {
   "cell_type": "code",
   "execution_count": null,
   "metadata": {},
   "outputs": [],
   "source": [
    "# Replace with your JSON file path\n",
    "json_file_path = \"path/to/your/file.json\"\n",
    "\n",
    "# Uncomment to load and analyze a JSON file\n",
    "# data = load_json_file(json_file_path)\n",
    "# explore_json(data, max_depth=3)"
   ]
  },
  {
   "cell_type": "code",
   "execution_count": null,
   "metadata": {},
   "outputs": [],
   "source": [
    "# Analyze df_check.csv files\n",
    "cases_dir = Path(\"/Users/tod/Desktop/LayoutLM_annotation_ms/du_cases\")\n",
    "\n",
    "# Uncomment to analyze CSV files\n",
    "# case_dirs = [d for d in cases_dir.iterdir() if d.is_dir()]\n",
    "# \n",
    "# csv_files = []\n",
    "# for case_path in case_dirs:\n",
    "#     csv_path = case_path / \"processing\" / \"form-recogniser\" / \"df_check.csv\"\n",
    "#     if csv_path.exists():\n",
    "#         csv_files.append((case_path.name, csv_path))\n",
    "# \n",
    "# if csv_files:\n",
    "#     case_id, csv_path = csv_files[0]\n",
    "#     df = pd.read_csv(csv_path)\n",
    "#     print(df.head())"
   ]
  }
 ],
 "metadata": {
  "kernelspec": {
   "display_name": "Python 3",
   "language": "python",
   "name": "python3"
  },
  "language_info": {
   "codemirror_mode": {
    "name": "ipython",
    "version": 3
   },
   "file_extension": ".py",
   "mimetype": "text/x-python",
   "name": "python",
   "nbconvert_exporter": "python",
   "pygments_lexer": "ipython3",
   "version": "3.8.0"
  }
 },
 "nbformat": 4,
 "nbformat_minor": 4
}