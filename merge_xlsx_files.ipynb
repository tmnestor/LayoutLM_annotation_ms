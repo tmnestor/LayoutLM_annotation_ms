{
 "cells": [
  {
   "cell_type": "markdown",
   "metadata": {},
   "source": [
    "# Excel File Merger\n",
    "\n",
    "This notebook provides a robust function to merge two Excel files with the same column structure."
   ]
  },
  {
   "cell_type": "code",
   "metadata": {},
   "outputs": [],
   "source": "from pathlib import Path\n\nimport pandas as pd"
  },
  {
   "cell_type": "code",
   "metadata": {},
   "outputs": [],
   "source": "def merge_xlsx_files(file1_path, file2_path, output_path):\n    \"\"\"\n    Merge two Excel files with same column structure.\n    \n    Args:\n        file1_path: Path to first Excel file\n        file2_path: Path to second Excel file  \n        output_path: Path for merged output file\n        \n    Returns:\n        pd.DataFrame: Merged dataframe\n        \n    Raises:\n        FileNotFoundError: If input files don't exist\n        ValueError: If files have incompatible structures\n    \"\"\"\n    # Convert to Path objects\n    file1 = Path(file1_path)\n    file2 = Path(file2_path) \n    output = Path(output_path)\n    \n    # Validate input files exist\n    if not file1.exists():\n        raise FileNotFoundError(f\"File not found: {file1}\")\n    if not file2.exists():\n        raise FileNotFoundError(f\"File not found: {file2}\")\n    \n    # Create output directory if needed\n    output.parent.mkdir(parents=True, exist_ok=True)\n    \n    try:\n        # Read files\n        df1 = pd.read_excel(file1)\n        df2 = pd.read_excel(file2)\n        \n        # Check for empty dataframes\n        if df1.empty and df2.empty:\n            print(\"Warning: Both files are empty\")\n            merged_df = pd.DataFrame()\n        elif df1.empty:\n            print(\"Warning: First file is empty, using second file\")\n            merged_df = df2.copy()\n        elif df2.empty:\n            print(\"Warning: Second file is empty, using first file\")\n            merged_df = df1.copy()\n        else:\n            # Verify columns match\n            if list(df1.columns) != list(df2.columns):\n                raise ValueError(\n                    f\"Column mismatch - File 1: {list(df1.columns)}, \"\n                    f\"File 2: {list(df2.columns)}\"\n                )\n            \n            # Merge dataframes\n            merged_df = pd.concat([df1, df2], ignore_index=True)\n        \n        # Save result\n        merged_df.to_excel(output, index=False)\n        print(f\"Successfully merged {len(df1)} + {len(df2)} = {len(merged_df)} rows\")\n        print(f\"Output saved to: {output}\")\n        \n        return merged_df\n        \n    except Exception as e:\n        print(f\"Error processing files: {e}\")\n        raise"
  },
  {
   "cell_type": "markdown",
   "metadata": {},
   "source": [
    "## Usage Example\n",
    "\n",
    "Update the file paths below to match your Excel files:"
   ]
  },
  {
   "cell_type": "code",
   "metadata": {},
   "outputs": [],
   "source": "# Update these paths to your actual files\nfile1_path = Path('file1.xlsx')\nfile2_path = Path('file2.xlsx') \noutput_path = Path('merged.xlsx')\n\n# Merge the files with error handling\ntry:\n    merged_data = merge_xlsx_files(file1_path, file2_path, output_path)\n    print(\"Merge completed successfully!\")\nexcept FileNotFoundError as e:\n    print(f\"File error: {e}\")\nexcept ValueError as e:\n    print(f\"Data error: {e}\")\nexcept Exception as e:\n    print(f\"Unexpected error: {e}\")"
  },
  {
   "cell_type": "markdown",
   "metadata": {},
   "source": [
    "## Optional: Preview the merged data"
   ]
  },
  {
   "cell_type": "code",
   "metadata": {},
   "outputs": [],
   "source": "# Display first few rows of merged data (if merge was successful)\nif 'merged_data' in locals() and not merged_data.empty:\n    display(merged_data.head())\nelse:\n    print(\"No merged data available to display\")"
  },
  {
   "cell_type": "code",
   "metadata": {},
   "outputs": [],
   "source": "# Display basic info about the merged dataset (if available)\nif 'merged_data' in locals() and not merged_data.empty:\n    print(f\"Shape: {merged_data.shape}\")\n    print(f\"Columns: {list(merged_data.columns)}\")\n    merged_data.info()\nelse:\n    print(\"No merged data available to analyze\")"
  }
 ],
 "metadata": {
  "kernelspec": {
   "display_name": "Python 3",
   "language": "python",
   "name": "python3"
  },
  "language_info": {
   "codemirror_mode": {
    "name": "ipython",
    "version": 3
   },
   "file_extension": ".py",
   "mimetype": "text/x-python",
   "name": "python",
   "nbconvert_exporter": "python",
   "pygments_lexer": "ipython3",
   "version": "3.8.0"
  }
 },
 "nbformat": 4,
 "nbformat_minor": 4
}