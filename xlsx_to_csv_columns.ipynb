{
 "cells": [
  {
   "cell_type": "markdown",
   "execution_count": null,
   "metadata": {},
   "outputs": [],
   "source": [
    "# Excel to CSV Column Extractor\n",
    "\n",
    "This notebook provides a function to read an Excel file and export specified columns to CSV format."
   ]
  },
  {
   "cell_type": "code",
   "execution_count": null,
   "metadata": {},
   "outputs": [],
   "source": [
    "from pathlib import Path\n",
    "\n",
    "import pandas as pd"
   ]
  },
  {
   "cell_type": "code",
   "execution_count": null,
   "metadata": {},
   "outputs": [],
   "source": [
    "def xlsx_to_csv_columns(xlsx_path, csv_path, columns=None, sheet_name=0):\n",
    "    \"\"\"\n",
    "    Read Excel file and export specified columns to CSV.\n",
    "    \n",
    "    Args:\n",
    "        xlsx_path: Path to input Excel file\n",
    "        csv_path: Path for output CSV file\n",
    "        columns: List of column names to export (if None, exports all columns)\n",
    "        sheet_name: Sheet name or index to read (default: 0 for first sheet)\n",
    "        \n",
    "    Returns:\n",
    "        pd.DataFrame: Exported dataframe\n",
    "        \n",
    "    Raises:\n",
    "        FileNotFoundError: If input file doesn't exist\n",
    "        ValueError: If specified columns don't exist\n",
    "        KeyError: If sheet name doesn't exist\n",
    "    \"\"\"\n",
    "    # Convert to Path objects\n",
    "    xlsx_file = Path(xlsx_path)\n",
    "    csv_file = Path(csv_path)\n",
    "    \n",
    "    # Validate input file exists\n",
    "    if not xlsx_file.exists():\n",
    "        raise FileNotFoundError(f\"Excel file not found: {xlsx_file}\")\n",
    "    \n",
    "    # Create output directory if needed\n",
    "    csv_file.parent.mkdir(parents=True, exist_ok=True)\n",
    "    \n",
    "    try:\n",
    "        # Read Excel file\n",
    "        print(f\"Reading Excel file: {xlsx_file}\")\n",
    "        df = pd.read_excel(xlsx_file, sheet_name=sheet_name)\n",
    "        \n",
    "        print(f\"Original data: {len(df)} rows, {len(df.columns)} columns\")\n",
    "        print(f\"Available columns: {list(df.columns)}\")\n",
    "        \n",
    "        # Handle column selection\n",
    "        if columns is None:\n",
    "            # Export all columns\n",
    "            selected_df = df.copy()\n",
    "            print(\"Exporting all columns\")\n",
    "        else:\n",
    "            # Validate specified columns exist\n",
    "            missing_cols = set(columns) - set(df.columns)\n",
    "            if missing_cols:\n",
    "                raise ValueError(f\"Columns not found in Excel file: {list(missing_cols)}\")\n",
    "            \n",
    "            # Select specified columns\n",
    "            selected_df = df[columns].copy()\n",
    "            print(f\"Exporting {len(columns)} specified columns: {columns}\")\n",
    "        \n",
    "        # Export to CSV\n",
    "        selected_df.to_csv(csv_file, index=False)\n",
    "        \n",
    "        print(f\"Successfully exported {len(selected_df)} rows, {len(selected_df.columns)} columns\")\n",
    "        print(f\"CSV saved to: {csv_file}\")\n",
    "        \n",
    "        return selected_df\n",
    "        \n",
    "    except Exception as e:\n",
    "        print(f\"Error processing file: {e}\")\n",
    "        raise"
   ]
  },
  {
   "cell_type": "code",
   "execution_count": null,
   "metadata": {},
   "outputs": [],
   "source": [
    "def list_excel_info(xlsx_path):\n",
    "    \"\"\"\n",
    "    Display information about an Excel file (sheets and columns).\n",
    "    \n",
    "    Args:\n",
    "        xlsx_path: Path to Excel file\n",
    "        \n",
    "    Returns:\n",
    "        dict: Information about sheets and columns\n",
    "    \"\"\"\n",
    "    xlsx_file = Path(xlsx_path)\n",
    "    \n",
    "    if not xlsx_file.exists():\n",
    "        raise FileNotFoundError(f\"Excel file not found: {xlsx_file}\")\n",
    "    \n",
    "    try:\n",
    "        # Read Excel file to get sheet info\n",
    "        excel_file = pd.ExcelFile(xlsx_file)\n",
    "        sheet_info = {}\n",
    "        \n",
    "        print(f\"Excel file: {xlsx_file}\")\n",
    "        print(f\"Number of sheets: {len(excel_file.sheet_names)}\")\n",
    "        print(\"\\nSheet information:\")\n",
    "        \n",
    "        for i, sheet_name in enumerate(excel_file.sheet_names):\n",
    "            df = pd.read_excel(xlsx_file, sheet_name=sheet_name)\n",
    "            sheet_info[sheet_name] = {\n",
    "                'index': i,\n",
    "                'rows': len(df),\n",
    "                'columns': list(df.columns),\n",
    "                'column_count': len(df.columns)\n",
    "            }\n",
    "            \n",
    "            print(f\"  [{i}] '{sheet_name}': {len(df)} rows, {len(df.columns)} columns\")\n",
    "            print(f\"      Columns: {list(df.columns)}\")\n",
    "            print()\n",
    "        \n",
    "        return sheet_info\n",
    "        \n",
    "    except Exception as e:\n",
    "        print(f\"Error reading Excel file: {e}\")\n",
    "        raise"
   ]
  },
  {
   "cell_type": "markdown",
   "execution_count": null,
   "metadata": {},
   "outputs": [],
   "source": [
    "## Usage Examples\n",
    "\n",
    "### Step 1: Explore Excel file structure"
   ]
  },
  {
   "cell_type": "code",
   "execution_count": null,
   "metadata": {},
   "outputs": [],
   "source": [
    "# First, explore the Excel file to see available sheets and columns\n",
    "excel_path = Path('data.xlsx')  # Update this path\n",
    "\n",
    "try:\n",
    "    sheet_info = list_excel_info(excel_path)\n",
    "except FileNotFoundError as e:\n",
    "    print(f\"File error: {e}\")\n",
    "except Exception as e:\n",
    "    print(f\"Error: {e}\")"
   ]
  },
  {
   "cell_type": "markdown",
   "execution_count": null,
   "metadata": {},
   "outputs": [],
   "source": [
    "### Step 2: Export all columns to CSV"
   ]
  },
  {
   "cell_type": "code",
   "execution_count": null,
   "metadata": {},
   "outputs": [],
   "source": [
    "# Export all columns from first sheet\n",
    "excel_path = Path('data.xlsx')  # Update this path\n",
    "csv_path = Path('exported_all_columns.csv')\n",
    "\n",
    "try:\n",
    "    exported_df = xlsx_to_csv_columns(excel_path, csv_path)\n",
    "    print(\"Export completed successfully!\")\n",
    "except FileNotFoundError as e:\n",
    "    print(f\"File error: {e}\")\n",
    "except Exception as e:\n",
    "    print(f\"Error: {e}\")"
   ]
  },
  {
   "cell_type": "markdown",
   "execution_count": null,
   "metadata": {},
   "outputs": [],
   "source": [
    "### Step 3: Export specific columns to CSV"
   ]
  },
  {
   "cell_type": "code",
   "execution_count": null,
   "metadata": {},
   "outputs": [],
   "source": [
    "# Export only specified columns\n",
    "excel_path = Path('data.xlsx')  # Update this path\n",
    "csv_path = Path('exported_selected_columns.csv')\n",
    "selected_columns = ['column1', 'column2', 'column3']  # Update column names\n",
    "\n",
    "try:\n",
    "    exported_df = xlsx_to_csv_columns(excel_path, csv_path, columns=selected_columns)\n",
    "    print(\"Export completed successfully!\")\n",
    "except FileNotFoundError as e:\n",
    "    print(f\"File error: {e}\")\n",
    "except ValueError as e:\n",
    "    print(f\"Column error: {e}\")\n",
    "except Exception as e:\n",
    "    print(f\"Error: {e}\")"
   ]
  },
  {
   "cell_type": "markdown",
   "execution_count": null,
   "metadata": {},
   "outputs": [],
   "source": [
    "### Step 4: Export from specific sheet"
   ]
  },
  {
   "cell_type": "code",
   "execution_count": null,
   "metadata": {},
   "outputs": [],
   "source": [
    "# Export from a specific sheet (by name or index)\n",
    "excel_path = Path('data.xlsx')  # Update this path\n",
    "csv_path = Path('exported_from_sheet.csv')\n",
    "sheet_name = 'Sheet2'  # Or use index like 1\n",
    "selected_columns = ['id', 'name', 'value']  # Update column names\n",
    "\n",
    "try:\n",
    "    exported_df = xlsx_to_csv_columns(\n",
    "        excel_path, \n",
    "        csv_path, \n",
    "        columns=selected_columns, \n",
    "        sheet_name=sheet_name\n",
    "    )\n",
    "    print(\"Export completed successfully!\")\n",
    "except FileNotFoundError as e:\n",
    "    print(f\"File error: {e}\")\n",
    "except KeyError as e:\n",
    "    print(f\"Sheet error: {e}\")\n",
    "except ValueError as e:\n",
    "    print(f\"Column error: {e}\")\n",
    "except Exception as e:\n",
    "    print(f\"Error: {e}\")"
   ]
  },
  {
   "cell_type": "markdown",
   "execution_count": null,
   "metadata": {},
   "outputs": [],
   "source": [
    "## Preview Exported Data\n",
    "\n",
    "View the first few rows of the exported data:"
   ]
  },
  {
   "cell_type": "code",
   "execution_count": null,
   "metadata": {},
   "outputs": [],
   "source": [
    "# Preview exported data if available\n",
    "if 'exported_df' in locals() and not exported_df.empty:\n",
    "    print(f\"Exported data shape: {exported_df.shape}\")\n",
    "    print(f\"Exported columns: {list(exported_df.columns)}\")\n",
    "    print(\"\\nFirst 5 rows:\")\n",
    "    display(exported_df.head())\n",
    "else:\n",
    "    print(\"No exported data available to preview\")"
   ]
  },
  {
   "cell_type": "code",
   "execution_count": null,
   "metadata": {},
   "outputs": [],
   "source": [
    "# Optional: Read back the CSV file to verify\n",
    "if 'csv_path' in locals() and Path(csv_path).exists():\n",
    "    print(f\"Verifying CSV file: {csv_path}\")\n",
    "    csv_df = pd.read_csv(csv_path)\n",
    "    print(f\"CSV file contains {len(csv_df)} rows and {len(csv_df.columns)} columns\")\n",
    "    print(f\"CSV columns: {list(csv_df.columns)}\")\n",
    "else:\n",
    "    print(\"No CSV file found to verify\")"
   ]
  }
 ],
 "metadata": {
  "kernelspec": {
   "display_name": "Python 3",
   "language": "python",
   "name": "python3"
  },
  "language_info": {
   "codemirror_mode": {
    "name": "ipython",
    "version": 3
   },
   "file_extension": ".py",
   "mimetype": "text/x-python",
   "name": "python",
   "nbconvert_exporter": "python",
   "pygments_lexer": "ipython3",
   "version": "3.8.0"
  }
 },
 "nbformat": 4,
 "nbformat_minor": 4
}