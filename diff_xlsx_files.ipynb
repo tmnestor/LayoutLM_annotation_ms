{
 "cells": [
  {
   "cell_type": "markdown",
   "metadata": {},
   "outputs": [],
   "source": "# Excel File Row Difference Analyzer\n\nThis notebook provides a function to compare two Excel files and identify which rows are different between them."
  },
  {
   "cell_type": "code",
   "execution_count": null,
   "metadata": {},
   "outputs": [],
   "source": [
    "from pathlib import Path\n",
    "\n",
    "import pandas as pd"
   ]
  },
  {
   "cell_type": "code",
   "metadata": {},
   "outputs": [],
   "source": "def diff_xlsx_files(file1_path, file2_path, output_path, join_columns=None):\n    \"\"\"\n    Compare two Excel files and generate a report showing row differences.\n    \n    Args:\n        file1_path: Path to first Excel file (reference)\n        file2_path: Path to second Excel file (comparison)\n        output_path: Path for difference report Excel file\n        join_columns: List of column names to use for row matching (if None, compares all columns)\n        \n    Returns:\n        dict: Summary of row differences found\n        \n    Raises:\n        FileNotFoundError: If input files don't exist\n        ValueError: If files have incompatible structures\n    \"\"\"\n    # Convert to Path objects\n    file1 = Path(file1_path)\n    file2 = Path(file2_path)\n    output = Path(output_path)\n    \n    # Validate input files exist\n    if not file1.exists():\n        raise FileNotFoundError(f\"File not found: {file1}\")\n    if not file2.exists():\n        raise FileNotFoundError(f\"File not found: {file2}\")\n    \n    # Create output directory if needed\n    output.parent.mkdir(parents=True, exist_ok=True)\n    \n    try:\n        # Read files\n        df1 = pd.read_excel(file1)\n        df2 = pd.read_excel(file2)\n        \n        print(f\"File 1: {len(df1)} rows, {len(df1.columns)} columns\")\n        print(f\"File 2: {len(df2)} rows, {len(df2.columns)} columns\")\n        \n        # Check for empty dataframes\n        if df1.empty and df2.empty:\n            print(\"Warning: Both files are empty\")\n            summary = {\"status\": \"both_empty\", \"differences\": 0}\n            return summary\n        \n        # Ensure same columns for comparison\n        if list(df1.columns) != list(df2.columns):\n            raise ValueError(\n                f\"Column mismatch - File 1: {list(df1.columns)}, \"\n                f\"File 2: {list(df2.columns)}\"\n            )\n        \n        # Determine comparison columns\n        if join_columns:\n            # Validate join columns exist\n            missing_cols = set(join_columns) - set(df1.columns)\n            if missing_cols:\n                raise ValueError(f\"Join columns not found: {missing_cols}\")\n            comparison_cols = join_columns\n        else:\n            # Use all columns for comparison\n            comparison_cols = list(df1.columns)\n        \n        print(f\"Comparing rows using columns: {comparison_cols}\")\n        \n        # Find row differences using merge\n        merged = pd.merge(\n            df1, df2, \n            on=comparison_cols, \n            how='outer', \n            indicator=True\n        )\n        \n        # Separate different types of rows\n        only_in_file1 = merged[merged['_merge'] == 'left_only'].drop('_merge', axis=1)\n        only_in_file2 = merged[merged['_merge'] == 'right_only'].drop('_merge', axis=1)\n        common_rows = merged[merged['_merge'] == 'both'].drop('_merge', axis=1)\n        \n        # Create summary\n        summary_data = {\n            'Metric': [\n                'Rows only in File 1',\n                'Rows only in File 2', \n                'Common rows',\n                'Total rows in File 1',\n                'Total rows in File 2',\n                'Total unique rows'\n            ],\n            'Count': [\n                len(only_in_file1),\n                len(only_in_file2),\n                len(common_rows),\n                len(df1),\n                len(df2),\n                len(merged)\n            ]\n        }\n        summary_df = pd.DataFrame(summary_data)\n        \n        # Write results to Excel with multiple sheets\n        with pd.ExcelWriter(output, engine='openpyxl') as writer:\n            # Summary sheet\n            summary_df.to_excel(writer, sheet_name='Summary', index=False)\n            \n            # Rows only in file 1\n            if len(only_in_file1) > 0:\n                only_in_file1.to_excel(writer, sheet_name='Only_in_File1', index=False)\n                print(f\"Found {len(only_in_file1)} rows only in File 1\")\n            \n            # Rows only in file 2  \n            if len(only_in_file2) > 0:\n                only_in_file2.to_excel(writer, sheet_name='Only_in_File2', index=False)\n                print(f\"Found {len(only_in_file2)} rows only in File 2\")\n            \n            # Common rows\n            if len(common_rows) > 0:\n                common_rows.to_excel(writer, sheet_name='Common_Rows', index=False)\n                print(f\"Found {len(common_rows)} common rows\")\n            \n            # Original files for reference\n            df1.to_excel(writer, sheet_name='Original_File1', index=False)\n            df2.to_excel(writer, sheet_name='Original_File2', index=False)\n        \n        # Prepare summary\n        total_differences = len(only_in_file1) + len(only_in_file2)\n        summary = {\n            \"status\": \"completed\",\n            \"file1_rows\": len(df1),\n            \"file2_rows\": len(df2),\n            \"only_in_file1\": len(only_in_file1),\n            \"only_in_file2\": len(only_in_file2),\n            \"common_rows\": len(common_rows),\n            \"total_differences\": total_differences,\n            \"comparison_columns\": comparison_cols\n        }\n        \n        print(f\"Row difference analysis completed.\")\n        print(f\"Total differences: {total_differences} rows\")\n        print(f\"Report saved to: {output}\")\n        \n        return summary\n        \n    except Exception as e:\n        print(f\"Error processing files: {e}\")\n        raise"
  },
  {
   "cell_type": "markdown",
   "metadata": {},
   "outputs": [],
   "source": "## Usage Examples\n\n### Example 1: Compare all columns to find row differences"
  },
  {
   "cell_type": "code",
   "metadata": {},
   "outputs": [],
   "source": "# Compare files using all columns to identify different rows\nfile1_path = Path('data1.xlsx')\nfile2_path = Path('data2.xlsx')\noutput_path = Path('row_differences.xlsx')\n\ntry:\n    summary = diff_xlsx_files(file1_path, file2_path, output_path)\n    print(\"Row comparison completed successfully!\")\n    print(f\"Summary: {summary}\")\nexcept FileNotFoundError as e:\n    print(f\"File error: {e}\")\nexcept ValueError as e:\n    print(f\"Data error: {e}\")\nexcept Exception as e:\n    print(f\"Unexpected error: {e}\")"
  },
  {
   "cell_type": "markdown",
   "metadata": {},
   "outputs": [],
   "source": "### Example 2: Compare using specific key columns to match rows"
  },
  {
   "cell_type": "code",
   "metadata": {},
   "outputs": [],
   "source": "# Compare files using specific key columns for row matching\nfile1_path = Path('dataset1.xlsx')\nfile2_path = Path('dataset2.xlsx')\noutput_path = Path('row_differences_by_key.xlsx')\nkey_cols = ['id', 'name']  # Specify key columns that define unique rows\n\ntry:\n    summary = diff_xlsx_files(file1_path, file2_path, output_path, join_columns=key_cols)\n    print(\"Row comparison completed successfully!\")\n    print(f\"Summary: {summary}\")\nexcept FileNotFoundError as e:\n    print(f\"File error: {e}\")\nexcept ValueError as e:\n    print(f\"Data error: {e}\")\nexcept Exception as e:\n    print(f\"Unexpected error: {e}\")"
  },
  {
   "cell_type": "markdown",
   "execution_count": null,
   "metadata": {},
   "outputs": [],
   "source": [
    "## View Results\n",
    "\n",
    "If comparison was successful, you can preview the summary:"
   ]
  },
  {
   "cell_type": "code",
   "execution_count": null,
   "metadata": {},
   "outputs": [],
   "source": [
    "# Display summary if available\n",
    "if 'summary' in locals():\n",
    "    print(\"Difference Analysis Summary:\")\n",
    "    for key, value in summary.items():\n",
    "        print(f\"  {key}: {value}\")\n",
    "else:\n",
    "    print(\"No comparison results available\")"
   ]
  },
  {
   "cell_type": "code",
   "execution_count": null,
   "metadata": {},
   "outputs": [],
   "source": [
    "# Optional: Load and preview the generated difference report\n",
    "if 'output_path' in locals() and Path(output_path).exists():\n",
    "    # Read summary sheet\n",
    "    summary_df = pd.read_excel(output_path, sheet_name='Summary')\n",
    "    print(\"Difference Report Summary:\")\n",
    "    display(summary_df)\n",
    "else:\n",
    "    print(\"No difference report file found\")"
   ]
  }
 ],
 "metadata": {
  "kernelspec": {
   "display_name": "Python 3",
   "language": "python",
   "name": "python3"
  },
  "language_info": {
   "codemirror_mode": {
    "name": "ipython",
    "version": 3
   },
   "file_extension": ".py",
   "mimetype": "text/x-python",
   "name": "python",
   "nbconvert_exporter": "python",
   "pygments_lexer": "ipython3",
   "version": "3.8.0"
  }
 },
 "nbformat": 4,
 "nbformat_minor": 4
}